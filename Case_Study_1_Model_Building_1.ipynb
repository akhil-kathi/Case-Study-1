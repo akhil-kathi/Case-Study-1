{
  "cells": [
    {
      "cell_type": "code",
      "execution_count": null,
      "metadata": {
        "id": "9H__MQAR8DyH"
      },
      "outputs": [],
      "source": [
        "import os\n",
        "os.environ['KAGGLE_USERNAME'] = \"akhilkathi97\"\n",
        "os.environ['KAGGLE_KEY'] = \"b1a7ecbde49a15f7d8c855d7171c1f61\""
      ]
    },
    {
      "cell_type": "code",
      "execution_count": null,
      "metadata": {
        "colab": {
          "base_uri": "https://localhost:8080/"
        },
        "id": "HTbZX7U_5Qfz",
        "outputId": "c8bc92ce-40f8-4164-89a2-4c05e49f64b3"
      },
      "outputs": [
        {
          "output_type": "stream",
          "name": "stdout",
          "text": [
            "Looking in indexes: https://pypi.org/simple, https://us-python.pkg.dev/colab-wheels/public/simple/\n",
            "Requirement already satisfied: gensim in /usr/local/lib/python3.7/dist-packages (3.6.0)\n",
            "Collecting gensim\n",
            "  Downloading gensim-4.2.0-cp37-cp37m-manylinux_2_12_x86_64.manylinux2010_x86_64.whl (24.1 MB)\n",
            "\u001b[K     |████████████████████████████████| 24.1 MB 1.2 MB/s \n",
            "\u001b[?25hRequirement already satisfied: numpy>=1.17.0 in /usr/local/lib/python3.7/dist-packages (from gensim) (1.21.6)\n",
            "Requirement already satisfied: smart-open>=1.8.1 in /usr/local/lib/python3.7/dist-packages (from gensim) (5.2.1)\n",
            "Requirement already satisfied: scipy>=0.18.1 in /usr/local/lib/python3.7/dist-packages (from gensim) (1.7.3)\n",
            "Installing collected packages: gensim\n",
            "  Attempting uninstall: gensim\n",
            "    Found existing installation: gensim 3.6.0\n",
            "    Uninstalling gensim-3.6.0:\n",
            "      Successfully uninstalled gensim-3.6.0\n",
            "Successfully installed gensim-4.2.0\n",
            "Downloading imdb-dataset-of-50k-movie-reviews.zip to /content\n",
            " 19% 5.00M/25.7M [00:00<00:00, 45.9MB/s]\n",
            "100% 25.7M/25.7M [00:00<00:00, 142MB/s] \n",
            "\n",
            "7-Zip [64] 16.02 : Copyright (c) 1999-2016 Igor Pavlov : 2016-05-21\n",
            "p7zip Version 16.02 (locale=en_US.UTF-8,Utf16=on,HugeFiles=on,64 bits,4 CPUs Intel(R) Xeon(R) CPU @ 2.20GHz (406F0),ASM,AES-NI)\n",
            "\n",
            "Scanning the drive for archives:\n",
            "  0M Scan\b\b\b\b\b\b\b\b\b         \b\b\b\b\b\b\b\b\b1 file, 26962657 bytes (26 MiB)\n",
            "\n",
            "Extracting archive: imdb-dataset-of-50k-movie-reviews.zip\n",
            "--\n",
            "Path = imdb-dataset-of-50k-movie-reviews.zip\n",
            "Type = zip\n",
            "Physical Size = 26962657\n",
            "\n",
            "  0%\b\b\b\b    \b\b\b\b 26% - IMDB Dataset.csv\b\b\b\b\b\b\b\b\b\b\b\b\b\b\b\b\b\b\b\b\b\b\b                       \b\b\b\b\b\b\b\b\b\b\b\b\b\b\b\b\b\b\b\b\b\b\b 50% - IMDB Dataset.csv\b\b\b\b\b\b\b\b\b\b\b\b\b\b\b\b\b\b\b\b\b\b\b                       \b\b\b\b\b\b\b\b\b\b\b\b\b\b\b\b\b\b\b\b\b\b\b 77% - IMDB Dataset.csv\b\b\b\b\b\b\b\b\b\b\b\b\b\b\b\b\b\b\b\b\b\b\b                       \b\b\b\b\b\b\b\b\b\b\b\b\b\b\b\b\b\b\b\b\b\b\bEverything is Ok\n",
            "\n",
            "Size:       66212309\n",
            "Compressed: 26962657\n",
            "\u001b[K     |████████████████████████████████| 287 kB 6.9 MB/s \n",
            "\u001b[K     |████████████████████████████████| 106 kB 67.1 MB/s \n",
            "\u001b[?25h/usr/local/lib/python3.7/dist-packages/gdown/cli.py:131: FutureWarning: Option `--id` was deprecated in version 4.3.1 and will be removed in 5.0. You don't need to pass it anymore to use a file ID.\n",
            "  category=FutureWarning,\n",
            "Access denied with the following error:\n",
            "\n",
            " \tCannot retrieve the public link of the file. You may need to change\n",
            "\tthe permission to 'Anyone with the link', or have had many accesses. \n",
            "\n",
            "You may still be able to access the file from the browser:\n",
            "\n",
            "\t https://drive.google.com/uc?id=1pGd5tLwA30M7wkbJKdXHaae9tYVDICJ_ \n",
            "\n"
          ]
        }
      ],
      "source": [
        "!pip install --upgrade gensim --pre\n",
        "!kaggle datasets download -d lakshmi25npathi/imdb-dataset-of-50k-movie-reviews --force\n",
        "!7z e imdb-dataset-of-50k-movie-reviews.zip -y\n",
        "!pip install contractions -q\n",
        "!gdown --id 1pGd5tLwA30M7wkbJKdXHaae9tYVDICJ_"
      ]
    },
    {
      "cell_type": "code",
      "execution_count": null,
      "metadata": {
        "id": "hfdlbTUG5eCK"
      },
      "outputs": [],
      "source": [
        "import contractions \n",
        "import nltk\n",
        "import re\n",
        "from tabulate import tabulate\n",
        "from nltk.stem.snowball import SnowballStemmer\n",
        "from nltk.corpus import stopwords\n",
        "from nltk.stem import WordNetLemmatizer \n",
        "from nltk.tokenize import RegexpTokenizer\n",
        "from textblob import TextBlob\n",
        "import numpy as np \n",
        "import pandas as pd\n",
        "import csv\n",
        "from tqdm.notebook import tqdm\n",
        "from sklearn.linear_model import LogisticRegression\n",
        "from sklearn.tree import DecisionTreeClassifier\n",
        "from sklearn.metrics import classification_report\n",
        "from sklearn.model_selection import RandomizedSearchCV\n",
        "from sklearn.svm import SVC\n",
        "from sklearn.ensemble import StackingClassifier,RandomForestClassifier\n",
        "from sklearn.naive_bayes import MultinomialNB\n",
        "from sklearn.feature_extraction.text import CountVectorizer, TfidfVectorizer\n",
        "from gensim.models import FastText,Word2Vec\n",
        "import time\n",
        "import pickle\n",
        "from sklearn.model_selection import train_test_split,KFold\n",
        "import warnings\n",
        "warnings.filterwarnings(\"error\")\n",
        "warnings.filterwarnings(\"ignore\", category=DeprecationWarning)\n",
        "tqdm.pandas()\n",
        "import xgboost as xgb\n",
        "from scipy import stats\n",
        "from sklearn.naive_bayes import MultinomialNB\n",
        "import multiprocessing"
      ]
    },
    {
      "cell_type": "code",
      "execution_count": null,
      "metadata": {
        "colab": {
          "base_uri": "https://localhost:8080/"
        },
        "id": "Aimc3uG_5ic0",
        "outputId": "6235f67d-3c57-471a-e775-4e37f20170cf"
      },
      "outputs": [
        {
          "output_type": "stream",
          "name": "stderr",
          "text": [
            "[nltk_data] Downloading package stopwords to /root/nltk_data...\n",
            "[nltk_data]   Unzipping corpora/stopwords.zip.\n",
            "[nltk_data] Downloading package wordnet to /root/nltk_data...\n",
            "[nltk_data] Downloading package omw-1.4 to /root/nltk_data...\n",
            "[nltk_data] Downloading package punkt to /root/nltk_data...\n",
            "[nltk_data]   Unzipping tokenizers/punkt.zip.\n",
            "[nltk_data] Downloading package averaged_perceptron_tagger to\n",
            "[nltk_data]     /root/nltk_data...\n",
            "[nltk_data]   Unzipping taggers/averaged_perceptron_tagger.zip.\n"
          ]
        }
      ],
      "source": [
        "nltk.download('stopwords')\n",
        "nltk.download('wordnet')\n",
        "nltk.download('omw-1.4')\n",
        "nltk.download('punkt')\n",
        "nltk.download('averaged_perceptron_tagger')\n",
        "cpu_count = multiprocessing.cpu_count()"
      ]
    },
    {
      "cell_type": "code",
      "execution_count": null,
      "metadata": {
        "id": "IqQ9hiOT5aZq"
      },
      "outputs": [],
      "source": [
        "stopwords_en = stopwords.words('english')\n",
        "stemmerSnowball = SnowballStemmer(\"english\")\n",
        "lemmatizer = WordNetLemmatizer()\n",
        "tokenizer = RegexpTokenizer(r'\\w+')"
      ]
    },
    {
      "cell_type": "code",
      "execution_count": null,
      "metadata": {
        "id": "daC4iGln5m28"
      },
      "outputs": [],
      "source": [
        "def text_preprocessing(text):\n",
        "    #Removing Hashtags\n",
        "    text = re.sub(\"@[A-Za-z0-9_]+\",\"\", text)\n",
        "    #Removing Mentions\n",
        "    text = re.sub(\"#[A-Za-z0-9_]+\",\"\", text)\n",
        "    #Remove <br/> tags\n",
        "    text = re.sub(r\"\\<.*\\/\\>\",'',text)\n",
        "    #Remove emojis\n",
        "    text=text.encode(\"ascii\",\"ignore\")\n",
        "    text=text.decode()\n",
        "    #Remove words containing numbers/digits\n",
        "    text = re.sub(r'\\w*\\d\\w*',\"\",text)\n",
        "    #removing certain sized words\n",
        "    text=' '.join([i for i in text.split() if len(i)>2])\n",
        "    #Remove HTML tags\n",
        "    remove_html_tags = [re.sub(r\"\\<.*\\>\",'',word) for word in text.split(\" \") ]\n",
        "    #Remove words inside brackets\n",
        "    remove_bracket_words = [re.sub(r\"\\(.*\\)\",'',word) for word in remove_html_tags ]\n",
        "    #Expanding contractions\n",
        "    text = contractions.fix((str(\" \".join(remove_bracket_words)).lower()))\n",
        "    #Words\n",
        "    words = [re.sub(r'[^\\w\\s]','',word) for word in text.split(' ')]\n",
        "    #Correcting Spelling Mistakes\n",
        "    #correct_words = [parser.parse(_)['result'] for _ in words]\n",
        "    #Removing StopWords\n",
        "    without_stop_words =  [re.sub(r'[^\\w+]','',word) for word in words if word not in stopwords_en]\n",
        "    #Stemming\n",
        "    stemmedWords =  [stemmerSnowball.stem(word) for word in without_stop_words]\n",
        "    #Lemmatization\n",
        "    lemmatized = [lemmatizer.lemmatize(word) for word in stemmedWords]\n",
        "    #Tokenization\n",
        "    tokenized = [\" \".join(tokenizer.tokenize(word)) for word in lemmatized]\n",
        "\n",
        "    return re.sub(' +', ' ',str(\" \".join(tokenized)))"
      ]
    },
    {
      "cell_type": "code",
      "execution_count": null,
      "metadata": {
        "colab": {
          "base_uri": "https://localhost:8080/",
          "height": 49,
          "referenced_widgets": [
            "6f1ec02901014fc1b509236f920cc2e1",
            "90993979bb0e4c87a00b83bb8109265e",
            "fafeaf85676b4568b90cb0cb06249c9e",
            "f6cb7556abe4424e9e1cc15b97308582",
            "d5b68110060849399e88b20457135eaf",
            "719862881f8241daae25395259e99b54",
            "f7a73b99270846fd84202a853e3c0ce4",
            "a59cf43a446a47ea8f2bd9d6ae3e4dc4",
            "c5a71f34f3644b7cad4fa4b4acbba5da",
            "877d8584ef15491c87d02b20b81823bf",
            "6f6e76ba8aaf43cb90ffd95ceb08e267"
          ]
        },
        "id": "YXPmuf8V5p0Z",
        "outputId": "138a722c-9de3-4f9f-8414-0b1bb6b20b63"
      },
      "outputs": [
        {
          "output_type": "display_data",
          "data": {
            "text/plain": [
              "  0%|          | 0/50000 [00:00<?, ?it/s]"
            ],
            "application/vnd.jupyter.widget-view+json": {
              "version_major": 2,
              "version_minor": 0,
              "model_id": "6f1ec02901014fc1b509236f920cc2e1"
            }
          },
          "metadata": {}
        }
      ],
      "source": [
        "data = pd.read_csv('IMDB Dataset.csv')\n",
        "data['pre_processed_text'] = data['review'].progress_apply(lambda row:text_preprocessing(row))"
      ]
    },
    {
      "cell_type": "code",
      "execution_count": null,
      "metadata": {
        "id": "v_8Qo1AD-Yof"
      },
      "outputs": [],
      "source": [
        "X = data['pre_processed_text']\n",
        "data['sentiment'] =  data['sentiment'].apply(lambda row: 0 if row==\"positive\" else 1)\n",
        "y = data['sentiment']\n",
        "X_train,X_test,y_train,y_test = train_test_split(X,y,test_size=0.25, random_state=42,stratify = y)"
      ]
    },
    {
      "cell_type": "code",
      "execution_count": null,
      "metadata": {
        "id": "mUsgFWSsudeN"
      },
      "outputs": [],
      "source": [
        "pre_processed_text_list_train =  X_train.apply(lambda x: x.split())\n",
        "pre_processed_text_list_test =  X_test.apply(lambda x: x.split())\n",
        "pre_processed_sentences_list_train = pre_processed_text_list_train.tolist()\n",
        "pre_processed_sentences_list_test = pre_processed_text_list_test.tolist()"
      ]
    },
    {
      "cell_type": "markdown",
      "metadata": {
        "id": "2n2HEQdcK4wz"
      },
      "source": [
        "[Reference 1](https://www.geeksforgeeks.org/fasttext-working-and-implementation/)\n",
        "[Reference 2](https://towardsdatascience.com/fasttext-under-the-hood-11efc57b2b3)\n",
        "\n",
        "1.   fastText is deep learning model which uses either continuous bag of words, skipgrams or bag of words architecture in the input. \n",
        "2.   At output layer as opposed to a linear classifier with softmax activation with gradient descent implementation, a hierarchical classifier is used.\n",
        "3.   A hierarchical classifier uses huffman algorithm to build decision trees. Every node in the binary tree represents a probability. A label is represented by the probability along the path to that given label.\n",
        "4.   Since the model will only be calculating only the probability on each node in the path to the one correct label, this method vastly reduces the time complexity of training the model.\n",
        "5.   fastText models using negative sampling, softmax or hierarchical softmax loss functions.\n",
        "6.   fastText performs well on out of vocabulary words since there is high change of word being an n-gram from existing corpus or complex word vectors are sometimes obtained by summing up two known simple words which form a complex word.\n",
        "\n",
        "\n",
        "\n",
        "\n",
        "  "
      ]
    },
    {
      "cell_type": "code",
      "execution_count": null,
      "metadata": {
        "colab": {
          "base_uri": "https://localhost:8080/"
        },
        "id": "VeGDY8Qw6Ld8",
        "outputId": "5551ae80-d287-4bfd-ba25-947db78999a0"
      },
      "outputs": [
        {
          "output_type": "stream",
          "name": "stdout",
          "text": [
            "Training Time: 224.7142312526703s\n"
          ]
        }
      ],
      "source": [
        "reviews_model = FastText(vector_size=300, window=2)\n",
        "reviews_model.build_vocab(pre_processed_sentences_list_train)\n",
        "start_time_fast_text = time.time()\n",
        "reviews_model.train(pre_processed_sentences_list_train,total_examples=len(pre_processed_sentences_list_train),epochs=20)\n",
        "end_time_fast_text = time.time()\n",
        "print(f\"Training Time: {end_time_fast_text - start_time_fast_text}s\")"
      ]
    },
    {
      "cell_type": "code",
      "execution_count": null,
      "metadata": {
        "colab": {
          "base_uri": "https://localhost:8080/"
        },
        "id": "i7_bwVEw99ZG",
        "outputId": "97cdb6c2-ff73-452c-d874-8b5739c48533"
      },
      "outputs": [
        {
          "output_type": "stream",
          "name": "stdout",
          "text": [
            "/usr/local/lib/python3.7/dist-packages/gdown/cli.py:131: FutureWarning: Option `--id` was deprecated in version 4.3.1 and will be removed in 5.0. You don't need to pass it anymore to use a file ID.\n",
            "  category=FutureWarning,\n",
            "Access denied with the following error:\n",
            "\n",
            " \tCannot retrieve the public link of the file. You may need to change\n",
            "\tthe permission to 'Anyone with the link', or have had many accesses. \n",
            "\n",
            "You may still be able to access the file from the browser:\n",
            "\n",
            "\t https://drive.google.com/uc?id=1pGd5tLwA30M7wkbJKdXHaae9tYVDICJ_ \n",
            "\n"
          ]
        }
      ],
      "source": [
        "!gdown --id 1pGd5tLwA30M7wkbJKdXHaae9tYVDICJ_"
      ]
    },
    {
      "cell_type": "code",
      "execution_count": null,
      "metadata": {
        "colab": {
          "base_uri": "https://localhost:8080/"
        },
        "id": "hHNg8afe9gIZ",
        "outputId": "21af7057-c9ec-41e7-9008-5ace31e28348"
      },
      "outputs": [
        {
          "output_type": "stream",
          "name": "stdout",
          "text": [
            "18773\n"
          ]
        }
      ],
      "source": [
        "words = reviews_model.wv.index_to_key\n",
        "print(len(words))"
      ]
    },
    {
      "cell_type": "code",
      "execution_count": null,
      "metadata": {
        "id": "Qrdymr3C_1nt"
      },
      "outputs": [],
      "source": [
        "#https://www.kaggle.com/code/tarushi89/nlp-tutorial-word2vec-glove-embeddings\n",
        "\n",
        "def featureVecMethod(words, model, num_features):\n",
        "    # Pre-initialising empty numpy array for speed\n",
        "    featureVec = np.zeros(num_features,dtype=\"float64\")\n",
        "    nwords = 0\n",
        "    \n",
        "    #Converting Index2Word which is a list to a set for better speed in the execution.\n",
        "    index2word_set = set(model.wv.index_to_key)\n",
        "    \n",
        "    for word in  words.split():\n",
        "        if word in index2word_set:\n",
        "            #print(\"Found Word\")\n",
        "            nwords = nwords + 1\n",
        "            featureVec = np.add(featureVec,model.wv[word])\n",
        "    \n",
        "    # Dividing the result by number of words to get average\n",
        "    try:\n",
        "      featureVec = np.divide(featureVec, nwords)\n",
        "    except RuntimeWarning:\n",
        "      print(np.divide(featureVec, nwords))\n",
        "    finally:\n",
        "      return featureVec"
      ]
    },
    {
      "cell_type": "code",
      "execution_count": null,
      "metadata": {
        "id": "BbSTsX-IASTW"
      },
      "outputs": [],
      "source": [
        "# Function for calculating the average feature vector\n",
        "def getAvgFeatureVecs(reviews, model, num_features):\n",
        "    counter = 0\n",
        "    reviewFeatureVecs = np.zeros((len(reviews),num_features),dtype=\"float64\")\n",
        "    for review in tqdm(reviews):\n",
        "        reviewFeatureVecs[counter] = featureVecMethod(review, model, num_features)\n",
        "        counter = counter+1\n",
        "    return reviewFeatureVecs"
      ]
    },
    {
      "cell_type": "code",
      "execution_count": null,
      "metadata": {
        "colab": {
          "base_uri": "https://localhost:8080/",
          "height": 81,
          "referenced_widgets": [
            "0035a648812042acb3d97524d61ef73e",
            "616573851c7b420c9da793f66ecc012c",
            "0dd62f8c839e43239ff55b98d4acd09a",
            "f16c2dd94f314f7e9debc1ba9e07fdb7",
            "ccc5b96fa99b4a32ab0e89a13309acdb",
            "efea663ace964bf1b06b0da34c0d5001",
            "a28c8436de4549b39bf037c1c29518e7",
            "0160f7c82f0b4232bce201ed96c68d52",
            "cac12863b19f486fb194e1e3bfc310ab",
            "ed129926cff04d55b38e6f4827cb99cb",
            "47c481abf7a445a4a61202e311e7239c",
            "61a52ad41948413eb6807f5b85479a77",
            "93e0b4ea0aa64582be4f114206dbb8ff",
            "f438fce8d39f47dd807c8ea86be129cf",
            "00cad076fe3246f3af6eb811f9ce4301",
            "e4b020c9f675474cb19d77de08aec12b",
            "ad2a62e66adb441d95a94502bd24eada",
            "fdf7e25a48a64b6faf87e8a0605fd160",
            "383bbce3ecf543c897fdd52d874ab106",
            "878473e2e5b74e72b5a2c205aaececd9",
            "c0bddf2595f742c8a64cf93b0c1e8d99",
            "a199dddbc7624eb79a8bdce079dd5157"
          ]
        },
        "id": "FYg-iHvrAXPj",
        "outputId": "571eb475-3344-444b-ef42-1aa130ffb33a"
      },
      "outputs": [
        {
          "output_type": "display_data",
          "data": {
            "text/plain": [
              "  0%|          | 0/37500 [00:00<?, ?it/s]"
            ],
            "application/vnd.jupyter.widget-view+json": {
              "version_major": 2,
              "version_minor": 0,
              "model_id": "0035a648812042acb3d97524d61ef73e"
            }
          },
          "metadata": {}
        },
        {
          "output_type": "display_data",
          "data": {
            "text/plain": [
              "  0%|          | 0/12500 [00:00<?, ?it/s]"
            ],
            "application/vnd.jupyter.widget-view+json": {
              "version_major": 2,
              "version_minor": 0,
              "model_id": "61a52ad41948413eb6807f5b85479a77"
            }
          },
          "metadata": {}
        }
      ],
      "source": [
        "trainVectors = getAvgFeatureVecs(X_train,reviews_model,300)\n",
        "testVectors = getAvgFeatureVecs(X_test,reviews_model,300)"
      ]
    },
    {
      "cell_type": "code",
      "execution_count": null,
      "metadata": {
        "id": "VfIy3tVBWIGj"
      },
      "outputs": [],
      "source": [
        "kfold_5 = KFold(shuffle = True, n_splits = 5)"
      ]
    },
    {
      "cell_type": "code",
      "execution_count": null,
      "metadata": {
        "id": "JTeiblFj_E0O"
      },
      "outputs": [],
      "source": [
        "dict_params_dtc = dict(max_features=[\"sqrt\",\"log2\"],criterion = ['gini', 'entropy'])\n",
        "dtc_random_search = RandomizedSearchCV(DecisionTreeClassifier(),dict_params_dtc,random_state=0,n_iter=4,scoring ='accuracy',n_jobs=-1,cv=kfold_5)\n",
        "dtc_rcv_search = dtc_random_search.fit(trainVectors,y_train)\n",
        "dtc_best_param_table = tabulate([list(dtc_rcv_search.best_params_.values())], headers=list(dtc_rcv_search.best_params_.keys()), tablefmt=\"grid\")\n",
        "dtc_best_params = DecisionTreeClassifier(**dtc_rcv_search.best_params_)\n",
        "dtc_best_params.fit(trainVectors,y_train)\n",
        "dtc_y_pred = dtc_best_params.predict(testVectors)\n",
        "dtc_accuracy = dtc_best_params.score(testVectors,y_test)\n",
        "dtc_report = classification_report(y_test,dtc_y_pred, output_dict=True)"
      ]
    },
    {
      "cell_type": "code",
      "execution_count": null,
      "metadata": {
        "id": "yPbapxMKO9oI"
      },
      "outputs": [],
      "source": [
        "dict_params_rfc = dict(max_features=[\"sqrt\",\"log2\"],criterion = ['gini', 'entropy'])\n",
        "rfc_random_search = RandomizedSearchCV(RandomForestClassifier(),dict_params_rfc,random_state=0,n_iter=4,scoring ='accuracy',n_jobs = -1,cv=kfold_5)\n",
        "rfc_rcv_search = rfc_random_search.fit(trainVectors,y_train)\n",
        "rfc_best_param_table = tabulate([list(rfc_rcv_search.best_params_.values())], headers=list(rfc_rcv_search.best_params_.keys()), tablefmt=\"grid\")\n",
        "rfc_best_params = RandomForestClassifier(**rfc_rcv_search.best_params_)\n",
        "rfc_best_params.fit(trainVectors,y_train)\n",
        "rfc_y_pred = rfc_best_params.predict(testVectors)\n",
        "rfc_accuracy = rfc_best_params.score(testVectors,y_test)\n",
        "rfc_report = classification_report(y_test,rfc_y_pred,output_dict=True)"
      ]
    },
    {
      "cell_type": "code",
      "execution_count": null,
      "metadata": {
        "id": "bFJAOkhU_0of"
      },
      "outputs": [],
      "source": [
        "dict_params_svc = dict(kernel=[\"linear\",\"rbf\"],C=[0.01,0.1])\n",
        "svc_random_search = RandomizedSearchCV(SVC(),dict_params_svc,random_state=0,n_iter=4,scoring ='accuracy',cv=kfold_5)\n",
        "svc_rcv_search = svc_random_search.fit(trainVectors,y_train)\n",
        "svc_best_param_table = tabulate([list(svc_rcv_search.best_params_.values())], headers=list(svc_rcv_search.best_params_.keys()), tablefmt=\"grid\")\n",
        "svc_best_params = SVC(**svc_rcv_search.best_params_)\n",
        "svc_best_params.fit(trainVectors,y_train)\n",
        "svc_y_pred = svc_best_params.predict(testVectors)\n",
        "svc_accuracy = svc_best_params.score(testVectors,y_test)\n",
        "svc_report = classification_report(y_test,svc_y_pred,output_dict=True)"
      ]
    },
    {
      "cell_type": "code",
      "execution_count": null,
      "metadata": {
        "id": "LKSOltL1bJg1"
      },
      "outputs": [],
      "source": [
        "dict_params_xgb = {'n_estimators': [300,750,1000],'learning_rate':[0.01,0.05,0.9],'max_depth': [5,6,7],'objective': ['binary:logistic']}\n",
        "clf_xgb = xgb.XGBClassifier(tree_method='gpu_hist')\n",
        "xgb_random_search = RandomizedSearchCV(clf_xgb,dict_params_xgb,random_state=0,cv=kfold_5,n_iter=3,scoring='accuracy',n_jobs=-1)\n",
        "xgb_rcv_search = xgb_random_search.fit(trainVectors,y_train)\n",
        "xgb_best_param_table = tabulate([list(xgb_rcv_search.best_params_.values())], headers=list(xgb_rcv_search.best_params_.keys()), tablefmt=\"grid\")\n",
        "xgb_best_model_params = xgb_rcv_search.best_params_\n",
        "xgb_best_model_params['tree_method']='gpu_hist'\n",
        "xgb_best_params =  xgb.XGBClassifier(**xgb_best_model_params)\n",
        "xgb_best_params.fit(trainVectors,y_train)\n",
        "xgb_accuracy = xgb_best_params.score(testVectors,y_test)\n",
        "xgb_report = classification_report(y_test,xgb_best_params.predict(testVectors),output_dict=True)"
      ]
    },
    {
      "cell_type": "code",
      "execution_count": null,
      "metadata": {
        "id": "cN6wjutcY8y_",
        "colab": {
          "base_uri": "https://localhost:8080/"
        },
        "outputId": "3289af5b-9753-49ce-a5b4-fefd2721c622"
      },
      "outputs": [
        {
          "output_type": "stream",
          "name": "stdout",
          "text": [
            "Best Parameters\n",
            "+----------------------------------+----------------------------------+--------------------+----------------------------------------------------------------------+\n",
            "| Decision Trees                   | Random Forest                    | Support Vectors    | Gradient Boosting                                                    |\n",
            "+==================================+==================================+====================+======================================================================+\n",
            "| +----------------+-------------+ | +----------------+-------------+ | +----------+-----+ | +-----------------+----------------+-------------+-----------------+ |\n",
            "| | max_features   | criterion   | | | max_features   | criterion   | | | kernel   |   C | | | objective       |   n_estimators |   max_depth |   learning_rate | |\n",
            "| +================+=============+ | +================+=============+ | +==========+=====+ | +=================+================+=============+=================+ |\n",
            "| | sqrt           | entropy     | | | sqrt           | entropy     | | | linear   | 0.1 | | | binary:logistic |           1000 |           6 |            0.05 | |\n",
            "| +----------------+-------------+ | +----------------+-------------+ | +----------+-----+ | +-----------------+----------------+-------------+-----------------+ |\n",
            "+----------------------------------+----------------------------------+--------------------+----------------------------------------------------------------------+\n"
          ]
        }
      ],
      "source": [
        "print('Best Parameters')\n",
        "print(tabulate([[dtc_best_param_table,rfc_best_param_table,svc_best_param_table,xgb_best_param_table]], headers=['Decision Trees','Random Forest','Support Vectors','Gradient Boosting'], tablefmt=\"grid\"))"
      ]
    },
    {
      "cell_type": "code",
      "execution_count": null,
      "metadata": {
        "id": "07_tvOGoSGlC"
      },
      "outputs": [],
      "source": [
        "estimators = [('dtc',DecisionTreeClassifier(**dtc_rcv_search.best_params_)),('rfc',RandomForestClassifier(**rfc_rcv_search.best_params_)),('svc',SVC(**svc_rcv_search.best_params_)),('xgb',xgb.XGBClassifier(**xgb_best_model_params))]\n",
        "clf = StackingClassifier(estimators=estimators, final_estimator=LogisticRegression(),n_jobs=-1)\n",
        "stacking_accuracy = clf.fit(trainVectors,y_train).score(testVectors, y_test)"
      ]
    },
    {
      "cell_type": "code",
      "source": [
        "table = []\n",
        "headers = list(list(dtc_report.values())[0].keys())\n",
        "classification_reports_ = [dtc_report,rfc_report,svc_report,xgb_report]\n",
        "for report in classification_reports_:\n",
        "  sub_table = []\n",
        "  for idx,_ in enumerate(list(report.values())):\n",
        "    try:\n",
        "      _vals = list(_.values())\n",
        "      _vals.insert(0,list(report.keys())[idx])\n",
        "      sub_table.append(_vals)\n",
        "    except:\n",
        "      pass\n",
        "  table.append(sub_table)"
      ],
      "metadata": {
        "id": "KhQL-BpGkHfK"
      },
      "execution_count": null,
      "outputs": []
    },
    {
      "cell_type": "code",
      "source": [
        "dtc_report_table = tabulate(table[0], headers=headers, tablefmt=\"grid\")\n",
        "rfc_report_table = tabulate(table[1], headers=headers, tablefmt=\"grid\")\n",
        "svc_report_table = tabulate(table[2], headers=headers, tablefmt=\"grid\")\n",
        "xgb_report_table = tabulate(table[3], headers=headers, tablefmt=\"grid\")"
      ],
      "metadata": {
        "id": "DohEdEVXqcN7"
      },
      "execution_count": null,
      "outputs": []
    },
    {
      "cell_type": "code",
      "execution_count": null,
      "metadata": {
        "id": "GMyqk9lWZczJ",
        "colab": {
          "base_uri": "https://localhost:8080/"
        },
        "outputId": "f91e456a-bc73-4e91-e06f-24d04f008901"
      },
      "outputs": [
        {
          "output_type": "stream",
          "name": "stdout",
          "text": [
            "Classification Reports\n",
            "+--------------------------------------------------------------------+--------------------------------------------------------------------+--------------------------------------------------------------------+--------------------------------------------------------------------+\n",
            "| Decision Trees                                                     | Random Forest                                                      | Support Vectors                                                    | Extreme Gradient Boosting                                          |\n",
            "+====================================================================+====================================================================+====================================================================+====================================================================+\n",
            "| +--------------+-------------+----------+------------+-----------+ | +--------------+-------------+----------+------------+-----------+ | +--------------+-------------+----------+------------+-----------+ | +--------------+-------------+----------+------------+-----------+ |\n",
            "| |              |   precision |   recall |   f1-score |   support | | |              |   precision |   recall |   f1-score |   support | | |              |   precision |   recall |   f1-score |   support | | |              |   precision |   recall |   f1-score |   support | |\n",
            "| +==============+=============+==========+============+===========+ | +==============+=============+==========+============+===========+ | +==============+=============+==========+============+===========+ | +==============+=============+==========+============+===========+ |\n",
            "| | 0            |    0.641979 |  0.65184 |   0.646872 |      6250 | | | 0            |    0.770925 |  0.812   |   0.79093  |      6250 | | | 0            |    0.823095 |  0.83824 |   0.830598 |      6250 | | | 0            |    0.819618 |  0.83824 |   0.828825 |      6250 | |\n",
            "| +--------------+-------------+----------+------------+-----------+ | +--------------+-------------+----------+------------+-----------+ | +--------------+-------------+----------+------------+-----------+ | +--------------+-------------+----------+------------+-----------+ |\n",
            "| | 1            |    0.646409 |  0.63648 |   0.641406 |      6250 | | | 1            |    0.80142  |  0.75872 |   0.779485 |      6250 | | | 1            |    0.835208 |  0.81984 |   0.827453 |      6250 | | | 1            |    0.834479 |  0.81552 |   0.824891 |      6250 | |\n",
            "| +--------------+-------------+----------+------------+-----------+ | +--------------+-------------+----------+------------+-----------+ | +--------------+-------------+----------+------------+-----------+ | +--------------+-------------+----------+------------+-----------+ |\n",
            "| | macro avg    |    0.644194 |  0.64416 |   0.644139 |     12500 | | | macro avg    |    0.786172 |  0.78536 |   0.785208 |     12500 | | | macro avg    |    0.829151 |  0.82904 |   0.829026 |     12500 | | | macro avg    |    0.827049 |  0.82688 |   0.826858 |     12500 | |\n",
            "| +--------------+-------------+----------+------------+-----------+ | +--------------+-------------+----------+------------+-----------+ | +--------------+-------------+----------+------------+-----------+ | +--------------+-------------+----------+------------+-----------+ |\n",
            "| | weighted avg |    0.644194 |  0.64416 |   0.644139 |     12500 | | | weighted avg |    0.786172 |  0.78536 |   0.785208 |     12500 | | | weighted avg |    0.829151 |  0.82904 |   0.829026 |     12500 | | | weighted avg |    0.827049 |  0.82688 |   0.826858 |     12500 | |\n",
            "| +--------------+-------------+----------+------------+-----------+ | +--------------+-------------+----------+------------+-----------+ | +--------------+-------------+----------+------------+-----------+ | +--------------+-------------+----------+------------+-----------+ |\n",
            "+--------------------------------------------------------------------+--------------------------------------------------------------------+--------------------------------------------------------------------+--------------------------------------------------------------------+\n"
          ]
        }
      ],
      "source": [
        "print('Classification Reports')\n",
        "print(tabulate([[dtc_report_table,rfc_report_table,svc_report_table,xgb_report_table]], headers=['Decision Trees','Random Forest','Support Vectors','Extreme Gradient Boosting'], tablefmt=\"grid\"))"
      ]
    },
    {
      "cell_type": "code",
      "execution_count": null,
      "metadata": {
        "id": "yGbOkfw5gxai",
        "colab": {
          "base_uri": "https://localhost:8080/"
        },
        "outputId": "93788dde-bcb6-4fc6-ff44-3bf30ba497d5"
      },
      "outputs": [
        {
          "output_type": "stream",
          "name": "stdout",
          "text": [
            "Model Scores\n",
            "+------------------+-----------------+-------------------+-----------------------------+----------------------+\n",
            "|   Decision Trees |   Random Forest |   Support Vectors |   Extreme Gradient Boosting |   Stacking Algorithm |\n",
            "+==================+=================+===================+=============================+======================+\n",
            "|          0.64416 |         0.78536 |           0.82904 |                     0.82688 |              0.82816 |\n",
            "+------------------+-----------------+-------------------+-----------------------------+----------------------+\n"
          ]
        }
      ],
      "source": [
        "print('Model Scores')\n",
        "print(tabulate([[dtc_accuracy,rfc_accuracy,svc_accuracy,xgb_accuracy,stacking_accuracy]], headers=['Decision Trees','Random Forest','Support Vectors','Extreme Gradient Boosting','Stacking Algorithm'], tablefmt=\"grid\"))"
      ]
    },
    {
      "cell_type": "code",
      "source": [
        "word_to_vec = Word2Vec(pre_processed_sentences_list_train, vector_size=300,window=5, min_count=2)\n",
        "trainVectors_word_to_vec = getAvgFeatureVecs(X_train,word_to_vec,300)\n",
        "testVectors_word_to_vec = getAvgFeatureVecs(X_test,word_to_vec,300)"
      ],
      "metadata": {
        "colab": {
          "base_uri": "https://localhost:8080/",
          "height": 81,
          "referenced_widgets": [
            "97e7f977a88146e798750a2915c76176",
            "e1591a6a58d5460a83e21f82f7314bb1",
            "c92147789b2142b18206638377bf5843",
            "433a3a0b2b5741ffb7de64d12045de78",
            "d958e6c3b283440999fdb2dac37a0983",
            "6593441e32c84ae9af4717ac83b541d7",
            "a17edda738014a62a64264565b603992",
            "bfd70f3b46504c839e5627e4df39f4db",
            "61d2217e740740d18217f0073f6c7476",
            "65efa9eb8710425f9557c65d341aa173",
            "8c48fc6e31484577be9132716a0831d5",
            "928892972f254c388d479f7acde84f54",
            "196fe477563d4bbf8068b6b502d86dca",
            "c4a321791e2647ba8a300064ee5c9321",
            "77deb89f88be40e6b209599215b06fb5",
            "88ce11a9359c4b1caa3f90d684bbd559",
            "50018fffd2e94cf6a8849d5fa76aafe6",
            "619277edb4be46b2993d94536c64a96d",
            "50116b971f0d48e498463e676d9f99fd",
            "67411129716b424a973e07cf4b57eea1",
            "8f8d4a3f9e8247b4b16b86c83d207e44",
            "de47032fe5bf44e1a2d0db161345d19e"
          ]
        },
        "id": "D4D301UoIria",
        "outputId": "46309837-0b58-41ed-ca7d-c4ade5c62970"
      },
      "execution_count": null,
      "outputs": [
        {
          "output_type": "display_data",
          "data": {
            "text/plain": [
              "  0%|          | 0/37500 [00:00<?, ?it/s]"
            ],
            "application/vnd.jupyter.widget-view+json": {
              "version_major": 2,
              "version_minor": 0,
              "model_id": "97e7f977a88146e798750a2915c76176"
            }
          },
          "metadata": {}
        },
        {
          "output_type": "display_data",
          "data": {
            "text/plain": [
              "  0%|          | 0/12500 [00:00<?, ?it/s]"
            ],
            "application/vnd.jupyter.widget-view+json": {
              "version_major": 2,
              "version_minor": 0,
              "model_id": "928892972f254c388d479f7acde84f54"
            }
          },
          "metadata": {}
        }
      ]
    },
    {
      "cell_type": "code",
      "source": [
        "estimators = [('dtc',DecisionTreeClassifier(**dtc_rcv_search.best_params_)),('rfc',RandomForestClassifier(**rfc_rcv_search.best_params_)),('svc',SVC(**svc_rcv_search.best_params_)),('xgb',xgb.XGBClassifier(**xgb_best_model_params))]\n",
        "clf_word_to_vec = StackingClassifier(estimators=estimators, final_estimator=LogisticRegression(),n_jobs=-1)\n",
        "word_to_vec_acc = clf_word_to_vec.fit(trainVectors_word_to_vec,y_train).score(testVectors_word_to_vec, y_test)"
      ],
      "metadata": {
        "id": "T-w7SIhpJkvC"
      },
      "execution_count": null,
      "outputs": []
    },
    {
      "cell_type": "code",
      "source": [
        "tf_idf = TfidfVectorizer(ngram_range=(1,2), max_df=0.95, min_df=2, max_features=2500).fit(X_train,y_train)\n",
        "tf_idf_train = tf_idf.transform(X_train).toarray()\n",
        "tf_idf_test = tf_idf.transform(X_test).toarray()"
      ],
      "metadata": {
        "id": "fz321ZeZKLTg"
      },
      "execution_count": null,
      "outputs": []
    },
    {
      "cell_type": "code",
      "source": [
        "estimators = [('dtc',DecisionTreeClassifier(**dtc_rcv_search.best_params_)),('rfc',RandomForestClassifier(**rfc_rcv_search.best_params_)),('svc',SVC(**svc_rcv_search.best_params_)),('xgb',xgb.XGBClassifier(**xgb_best_model_params))]\n",
        "tf_idf_clf = StackingClassifier(estimators=estimators, final_estimator=LogisticRegression(),n_jobs=-1)\n",
        "tf_idf_acc = tf_idf_clf.fit(tf_idf_train,y_train).score(tf_idf_test, y_test)"
      ],
      "metadata": {
        "id": "UMXxW9rxKZUb"
      },
      "execution_count": null,
      "outputs": []
    },
    {
      "cell_type": "code",
      "source": [
        "print('Different Word Embeddings')\n",
        "print(tabulate([[stacking_accuracy,word_to_vec_acc,tf_idf_acc]], headers=['fastText Word Embeddings','Average Word to Vector','TF-IDF'], tablefmt=\"grid\"))"
      ],
      "metadata": {
        "id": "E-MHb7wKQkyf",
        "colab": {
          "base_uri": "https://localhost:8080/"
        },
        "outputId": "be00894e-973a-4a93-ba0a-006fee2ceb76"
      },
      "execution_count": null,
      "outputs": [
        {
          "output_type": "stream",
          "name": "stdout",
          "text": [
            "Different Word Embeddings\n",
            "+----------------------------+--------------------------+----------+\n",
            "|   fastText Word Embeddings |   Average Word to Vector |   TF-IDF |\n",
            "+============================+==========================+==========+\n",
            "|                    0.82608 |                  0.82104 |  0.84528 |\n",
            "+----------------------------+--------------------------+----------+\n"
          ]
        }
      ]
    }
  ],
  "metadata": {
    "colab": {
      "collapsed_sections": [],
      "machine_shape": "hm",
      "name": "Case Study 1 Model Building.ipynb",
      "provenance": []
    },
    "gpuClass": "standard",
    "kernelspec": {
      "display_name": "Python 3",
      "name": "python3"
    },
    "language_info": {
      "name": "python"
    },
    "widgets": {
      "application/vnd.jupyter.widget-state+json": {
        "6f1ec02901014fc1b509236f920cc2e1": {
          "model_module": "@jupyter-widgets/controls",
          "model_name": "HBoxModel",
          "model_module_version": "1.5.0",
          "state": {
            "_dom_classes": [],
            "_model_module": "@jupyter-widgets/controls",
            "_model_module_version": "1.5.0",
            "_model_name": "HBoxModel",
            "_view_count": null,
            "_view_module": "@jupyter-widgets/controls",
            "_view_module_version": "1.5.0",
            "_view_name": "HBoxView",
            "box_style": "",
            "children": [
              "IPY_MODEL_90993979bb0e4c87a00b83bb8109265e",
              "IPY_MODEL_fafeaf85676b4568b90cb0cb06249c9e",
              "IPY_MODEL_f6cb7556abe4424e9e1cc15b97308582"
            ],
            "layout": "IPY_MODEL_d5b68110060849399e88b20457135eaf"
          }
        },
        "90993979bb0e4c87a00b83bb8109265e": {
          "model_module": "@jupyter-widgets/controls",
          "model_name": "HTMLModel",
          "model_module_version": "1.5.0",
          "state": {
            "_dom_classes": [],
            "_model_module": "@jupyter-widgets/controls",
            "_model_module_version": "1.5.0",
            "_model_name": "HTMLModel",
            "_view_count": null,
            "_view_module": "@jupyter-widgets/controls",
            "_view_module_version": "1.5.0",
            "_view_name": "HTMLView",
            "description": "",
            "description_tooltip": null,
            "layout": "IPY_MODEL_719862881f8241daae25395259e99b54",
            "placeholder": "​",
            "style": "IPY_MODEL_f7a73b99270846fd84202a853e3c0ce4",
            "value": "100%"
          }
        },
        "fafeaf85676b4568b90cb0cb06249c9e": {
          "model_module": "@jupyter-widgets/controls",
          "model_name": "FloatProgressModel",
          "model_module_version": "1.5.0",
          "state": {
            "_dom_classes": [],
            "_model_module": "@jupyter-widgets/controls",
            "_model_module_version": "1.5.0",
            "_model_name": "FloatProgressModel",
            "_view_count": null,
            "_view_module": "@jupyter-widgets/controls",
            "_view_module_version": "1.5.0",
            "_view_name": "ProgressView",
            "bar_style": "success",
            "description": "",
            "description_tooltip": null,
            "layout": "IPY_MODEL_a59cf43a446a47ea8f2bd9d6ae3e4dc4",
            "max": 50000,
            "min": 0,
            "orientation": "horizontal",
            "style": "IPY_MODEL_c5a71f34f3644b7cad4fa4b4acbba5da",
            "value": 50000
          }
        },
        "f6cb7556abe4424e9e1cc15b97308582": {
          "model_module": "@jupyter-widgets/controls",
          "model_name": "HTMLModel",
          "model_module_version": "1.5.0",
          "state": {
            "_dom_classes": [],
            "_model_module": "@jupyter-widgets/controls",
            "_model_module_version": "1.5.0",
            "_model_name": "HTMLModel",
            "_view_count": null,
            "_view_module": "@jupyter-widgets/controls",
            "_view_module_version": "1.5.0",
            "_view_name": "HTMLView",
            "description": "",
            "description_tooltip": null,
            "layout": "IPY_MODEL_877d8584ef15491c87d02b20b81823bf",
            "placeholder": "​",
            "style": "IPY_MODEL_6f6e76ba8aaf43cb90ffd95ceb08e267",
            "value": " 50000/50000 [02:05&lt;00:00, 386.08it/s]"
          }
        },
        "d5b68110060849399e88b20457135eaf": {
          "model_module": "@jupyter-widgets/base",
          "model_name": "LayoutModel",
          "model_module_version": "1.2.0",
          "state": {
            "_model_module": "@jupyter-widgets/base",
            "_model_module_version": "1.2.0",
            "_model_name": "LayoutModel",
            "_view_count": null,
            "_view_module": "@jupyter-widgets/base",
            "_view_module_version": "1.2.0",
            "_view_name": "LayoutView",
            "align_content": null,
            "align_items": null,
            "align_self": null,
            "border": null,
            "bottom": null,
            "display": null,
            "flex": null,
            "flex_flow": null,
            "grid_area": null,
            "grid_auto_columns": null,
            "grid_auto_flow": null,
            "grid_auto_rows": null,
            "grid_column": null,
            "grid_gap": null,
            "grid_row": null,
            "grid_template_areas": null,
            "grid_template_columns": null,
            "grid_template_rows": null,
            "height": null,
            "justify_content": null,
            "justify_items": null,
            "left": null,
            "margin": null,
            "max_height": null,
            "max_width": null,
            "min_height": null,
            "min_width": null,
            "object_fit": null,
            "object_position": null,
            "order": null,
            "overflow": null,
            "overflow_x": null,
            "overflow_y": null,
            "padding": null,
            "right": null,
            "top": null,
            "visibility": null,
            "width": null
          }
        },
        "719862881f8241daae25395259e99b54": {
          "model_module": "@jupyter-widgets/base",
          "model_name": "LayoutModel",
          "model_module_version": "1.2.0",
          "state": {
            "_model_module": "@jupyter-widgets/base",
            "_model_module_version": "1.2.0",
            "_model_name": "LayoutModel",
            "_view_count": null,
            "_view_module": "@jupyter-widgets/base",
            "_view_module_version": "1.2.0",
            "_view_name": "LayoutView",
            "align_content": null,
            "align_items": null,
            "align_self": null,
            "border": null,
            "bottom": null,
            "display": null,
            "flex": null,
            "flex_flow": null,
            "grid_area": null,
            "grid_auto_columns": null,
            "grid_auto_flow": null,
            "grid_auto_rows": null,
            "grid_column": null,
            "grid_gap": null,
            "grid_row": null,
            "grid_template_areas": null,
            "grid_template_columns": null,
            "grid_template_rows": null,
            "height": null,
            "justify_content": null,
            "justify_items": null,
            "left": null,
            "margin": null,
            "max_height": null,
            "max_width": null,
            "min_height": null,
            "min_width": null,
            "object_fit": null,
            "object_position": null,
            "order": null,
            "overflow": null,
            "overflow_x": null,
            "overflow_y": null,
            "padding": null,
            "right": null,
            "top": null,
            "visibility": null,
            "width": null
          }
        },
        "f7a73b99270846fd84202a853e3c0ce4": {
          "model_module": "@jupyter-widgets/controls",
          "model_name": "DescriptionStyleModel",
          "model_module_version": "1.5.0",
          "state": {
            "_model_module": "@jupyter-widgets/controls",
            "_model_module_version": "1.5.0",
            "_model_name": "DescriptionStyleModel",
            "_view_count": null,
            "_view_module": "@jupyter-widgets/base",
            "_view_module_version": "1.2.0",
            "_view_name": "StyleView",
            "description_width": ""
          }
        },
        "a59cf43a446a47ea8f2bd9d6ae3e4dc4": {
          "model_module": "@jupyter-widgets/base",
          "model_name": "LayoutModel",
          "model_module_version": "1.2.0",
          "state": {
            "_model_module": "@jupyter-widgets/base",
            "_model_module_version": "1.2.0",
            "_model_name": "LayoutModel",
            "_view_count": null,
            "_view_module": "@jupyter-widgets/base",
            "_view_module_version": "1.2.0",
            "_view_name": "LayoutView",
            "align_content": null,
            "align_items": null,
            "align_self": null,
            "border": null,
            "bottom": null,
            "display": null,
            "flex": null,
            "flex_flow": null,
            "grid_area": null,
            "grid_auto_columns": null,
            "grid_auto_flow": null,
            "grid_auto_rows": null,
            "grid_column": null,
            "grid_gap": null,
            "grid_row": null,
            "grid_template_areas": null,
            "grid_template_columns": null,
            "grid_template_rows": null,
            "height": null,
            "justify_content": null,
            "justify_items": null,
            "left": null,
            "margin": null,
            "max_height": null,
            "max_width": null,
            "min_height": null,
            "min_width": null,
            "object_fit": null,
            "object_position": null,
            "order": null,
            "overflow": null,
            "overflow_x": null,
            "overflow_y": null,
            "padding": null,
            "right": null,
            "top": null,
            "visibility": null,
            "width": null
          }
        },
        "c5a71f34f3644b7cad4fa4b4acbba5da": {
          "model_module": "@jupyter-widgets/controls",
          "model_name": "ProgressStyleModel",
          "model_module_version": "1.5.0",
          "state": {
            "_model_module": "@jupyter-widgets/controls",
            "_model_module_version": "1.5.0",
            "_model_name": "ProgressStyleModel",
            "_view_count": null,
            "_view_module": "@jupyter-widgets/base",
            "_view_module_version": "1.2.0",
            "_view_name": "StyleView",
            "bar_color": null,
            "description_width": ""
          }
        },
        "877d8584ef15491c87d02b20b81823bf": {
          "model_module": "@jupyter-widgets/base",
          "model_name": "LayoutModel",
          "model_module_version": "1.2.0",
          "state": {
            "_model_module": "@jupyter-widgets/base",
            "_model_module_version": "1.2.0",
            "_model_name": "LayoutModel",
            "_view_count": null,
            "_view_module": "@jupyter-widgets/base",
            "_view_module_version": "1.2.0",
            "_view_name": "LayoutView",
            "align_content": null,
            "align_items": null,
            "align_self": null,
            "border": null,
            "bottom": null,
            "display": null,
            "flex": null,
            "flex_flow": null,
            "grid_area": null,
            "grid_auto_columns": null,
            "grid_auto_flow": null,
            "grid_auto_rows": null,
            "grid_column": null,
            "grid_gap": null,
            "grid_row": null,
            "grid_template_areas": null,
            "grid_template_columns": null,
            "grid_template_rows": null,
            "height": null,
            "justify_content": null,
            "justify_items": null,
            "left": null,
            "margin": null,
            "max_height": null,
            "max_width": null,
            "min_height": null,
            "min_width": null,
            "object_fit": null,
            "object_position": null,
            "order": null,
            "overflow": null,
            "overflow_x": null,
            "overflow_y": null,
            "padding": null,
            "right": null,
            "top": null,
            "visibility": null,
            "width": null
          }
        },
        "6f6e76ba8aaf43cb90ffd95ceb08e267": {
          "model_module": "@jupyter-widgets/controls",
          "model_name": "DescriptionStyleModel",
          "model_module_version": "1.5.0",
          "state": {
            "_model_module": "@jupyter-widgets/controls",
            "_model_module_version": "1.5.0",
            "_model_name": "DescriptionStyleModel",
            "_view_count": null,
            "_view_module": "@jupyter-widgets/base",
            "_view_module_version": "1.2.0",
            "_view_name": "StyleView",
            "description_width": ""
          }
        },
        "0035a648812042acb3d97524d61ef73e": {
          "model_module": "@jupyter-widgets/controls",
          "model_name": "HBoxModel",
          "model_module_version": "1.5.0",
          "state": {
            "_dom_classes": [],
            "_model_module": "@jupyter-widgets/controls",
            "_model_module_version": "1.5.0",
            "_model_name": "HBoxModel",
            "_view_count": null,
            "_view_module": "@jupyter-widgets/controls",
            "_view_module_version": "1.5.0",
            "_view_name": "HBoxView",
            "box_style": "",
            "children": [
              "IPY_MODEL_616573851c7b420c9da793f66ecc012c",
              "IPY_MODEL_0dd62f8c839e43239ff55b98d4acd09a",
              "IPY_MODEL_f16c2dd94f314f7e9debc1ba9e07fdb7"
            ],
            "layout": "IPY_MODEL_ccc5b96fa99b4a32ab0e89a13309acdb"
          }
        },
        "616573851c7b420c9da793f66ecc012c": {
          "model_module": "@jupyter-widgets/controls",
          "model_name": "HTMLModel",
          "model_module_version": "1.5.0",
          "state": {
            "_dom_classes": [],
            "_model_module": "@jupyter-widgets/controls",
            "_model_module_version": "1.5.0",
            "_model_name": "HTMLModel",
            "_view_count": null,
            "_view_module": "@jupyter-widgets/controls",
            "_view_module_version": "1.5.0",
            "_view_name": "HTMLView",
            "description": "",
            "description_tooltip": null,
            "layout": "IPY_MODEL_efea663ace964bf1b06b0da34c0d5001",
            "placeholder": "​",
            "style": "IPY_MODEL_a28c8436de4549b39bf037c1c29518e7",
            "value": "100%"
          }
        },
        "0dd62f8c839e43239ff55b98d4acd09a": {
          "model_module": "@jupyter-widgets/controls",
          "model_name": "FloatProgressModel",
          "model_module_version": "1.5.0",
          "state": {
            "_dom_classes": [],
            "_model_module": "@jupyter-widgets/controls",
            "_model_module_version": "1.5.0",
            "_model_name": "FloatProgressModel",
            "_view_count": null,
            "_view_module": "@jupyter-widgets/controls",
            "_view_module_version": "1.5.0",
            "_view_name": "ProgressView",
            "bar_style": "success",
            "description": "",
            "description_tooltip": null,
            "layout": "IPY_MODEL_0160f7c82f0b4232bce201ed96c68d52",
            "max": 37500,
            "min": 0,
            "orientation": "horizontal",
            "style": "IPY_MODEL_cac12863b19f486fb194e1e3bfc310ab",
            "value": 37500
          }
        },
        "f16c2dd94f314f7e9debc1ba9e07fdb7": {
          "model_module": "@jupyter-widgets/controls",
          "model_name": "HTMLModel",
          "model_module_version": "1.5.0",
          "state": {
            "_dom_classes": [],
            "_model_module": "@jupyter-widgets/controls",
            "_model_module_version": "1.5.0",
            "_model_name": "HTMLModel",
            "_view_count": null,
            "_view_module": "@jupyter-widgets/controls",
            "_view_module_version": "1.5.0",
            "_view_name": "HTMLView",
            "description": "",
            "description_tooltip": null,
            "layout": "IPY_MODEL_ed129926cff04d55b38e6f4827cb99cb",
            "placeholder": "​",
            "style": "IPY_MODEL_47c481abf7a445a4a61202e311e7239c",
            "value": " 37500/37500 [01:17&lt;00:00, 488.01it/s]"
          }
        },
        "ccc5b96fa99b4a32ab0e89a13309acdb": {
          "model_module": "@jupyter-widgets/base",
          "model_name": "LayoutModel",
          "model_module_version": "1.2.0",
          "state": {
            "_model_module": "@jupyter-widgets/base",
            "_model_module_version": "1.2.0",
            "_model_name": "LayoutModel",
            "_view_count": null,
            "_view_module": "@jupyter-widgets/base",
            "_view_module_version": "1.2.0",
            "_view_name": "LayoutView",
            "align_content": null,
            "align_items": null,
            "align_self": null,
            "border": null,
            "bottom": null,
            "display": null,
            "flex": null,
            "flex_flow": null,
            "grid_area": null,
            "grid_auto_columns": null,
            "grid_auto_flow": null,
            "grid_auto_rows": null,
            "grid_column": null,
            "grid_gap": null,
            "grid_row": null,
            "grid_template_areas": null,
            "grid_template_columns": null,
            "grid_template_rows": null,
            "height": null,
            "justify_content": null,
            "justify_items": null,
            "left": null,
            "margin": null,
            "max_height": null,
            "max_width": null,
            "min_height": null,
            "min_width": null,
            "object_fit": null,
            "object_position": null,
            "order": null,
            "overflow": null,
            "overflow_x": null,
            "overflow_y": null,
            "padding": null,
            "right": null,
            "top": null,
            "visibility": null,
            "width": null
          }
        },
        "efea663ace964bf1b06b0da34c0d5001": {
          "model_module": "@jupyter-widgets/base",
          "model_name": "LayoutModel",
          "model_module_version": "1.2.0",
          "state": {
            "_model_module": "@jupyter-widgets/base",
            "_model_module_version": "1.2.0",
            "_model_name": "LayoutModel",
            "_view_count": null,
            "_view_module": "@jupyter-widgets/base",
            "_view_module_version": "1.2.0",
            "_view_name": "LayoutView",
            "align_content": null,
            "align_items": null,
            "align_self": null,
            "border": null,
            "bottom": null,
            "display": null,
            "flex": null,
            "flex_flow": null,
            "grid_area": null,
            "grid_auto_columns": null,
            "grid_auto_flow": null,
            "grid_auto_rows": null,
            "grid_column": null,
            "grid_gap": null,
            "grid_row": null,
            "grid_template_areas": null,
            "grid_template_columns": null,
            "grid_template_rows": null,
            "height": null,
            "justify_content": null,
            "justify_items": null,
            "left": null,
            "margin": null,
            "max_height": null,
            "max_width": null,
            "min_height": null,
            "min_width": null,
            "object_fit": null,
            "object_position": null,
            "order": null,
            "overflow": null,
            "overflow_x": null,
            "overflow_y": null,
            "padding": null,
            "right": null,
            "top": null,
            "visibility": null,
            "width": null
          }
        },
        "a28c8436de4549b39bf037c1c29518e7": {
          "model_module": "@jupyter-widgets/controls",
          "model_name": "DescriptionStyleModel",
          "model_module_version": "1.5.0",
          "state": {
            "_model_module": "@jupyter-widgets/controls",
            "_model_module_version": "1.5.0",
            "_model_name": "DescriptionStyleModel",
            "_view_count": null,
            "_view_module": "@jupyter-widgets/base",
            "_view_module_version": "1.2.0",
            "_view_name": "StyleView",
            "description_width": ""
          }
        },
        "0160f7c82f0b4232bce201ed96c68d52": {
          "model_module": "@jupyter-widgets/base",
          "model_name": "LayoutModel",
          "model_module_version": "1.2.0",
          "state": {
            "_model_module": "@jupyter-widgets/base",
            "_model_module_version": "1.2.0",
            "_model_name": "LayoutModel",
            "_view_count": null,
            "_view_module": "@jupyter-widgets/base",
            "_view_module_version": "1.2.0",
            "_view_name": "LayoutView",
            "align_content": null,
            "align_items": null,
            "align_self": null,
            "border": null,
            "bottom": null,
            "display": null,
            "flex": null,
            "flex_flow": null,
            "grid_area": null,
            "grid_auto_columns": null,
            "grid_auto_flow": null,
            "grid_auto_rows": null,
            "grid_column": null,
            "grid_gap": null,
            "grid_row": null,
            "grid_template_areas": null,
            "grid_template_columns": null,
            "grid_template_rows": null,
            "height": null,
            "justify_content": null,
            "justify_items": null,
            "left": null,
            "margin": null,
            "max_height": null,
            "max_width": null,
            "min_height": null,
            "min_width": null,
            "object_fit": null,
            "object_position": null,
            "order": null,
            "overflow": null,
            "overflow_x": null,
            "overflow_y": null,
            "padding": null,
            "right": null,
            "top": null,
            "visibility": null,
            "width": null
          }
        },
        "cac12863b19f486fb194e1e3bfc310ab": {
          "model_module": "@jupyter-widgets/controls",
          "model_name": "ProgressStyleModel",
          "model_module_version": "1.5.0",
          "state": {
            "_model_module": "@jupyter-widgets/controls",
            "_model_module_version": "1.5.0",
            "_model_name": "ProgressStyleModel",
            "_view_count": null,
            "_view_module": "@jupyter-widgets/base",
            "_view_module_version": "1.2.0",
            "_view_name": "StyleView",
            "bar_color": null,
            "description_width": ""
          }
        },
        "ed129926cff04d55b38e6f4827cb99cb": {
          "model_module": "@jupyter-widgets/base",
          "model_name": "LayoutModel",
          "model_module_version": "1.2.0",
          "state": {
            "_model_module": "@jupyter-widgets/base",
            "_model_module_version": "1.2.0",
            "_model_name": "LayoutModel",
            "_view_count": null,
            "_view_module": "@jupyter-widgets/base",
            "_view_module_version": "1.2.0",
            "_view_name": "LayoutView",
            "align_content": null,
            "align_items": null,
            "align_self": null,
            "border": null,
            "bottom": null,
            "display": null,
            "flex": null,
            "flex_flow": null,
            "grid_area": null,
            "grid_auto_columns": null,
            "grid_auto_flow": null,
            "grid_auto_rows": null,
            "grid_column": null,
            "grid_gap": null,
            "grid_row": null,
            "grid_template_areas": null,
            "grid_template_columns": null,
            "grid_template_rows": null,
            "height": null,
            "justify_content": null,
            "justify_items": null,
            "left": null,
            "margin": null,
            "max_height": null,
            "max_width": null,
            "min_height": null,
            "min_width": null,
            "object_fit": null,
            "object_position": null,
            "order": null,
            "overflow": null,
            "overflow_x": null,
            "overflow_y": null,
            "padding": null,
            "right": null,
            "top": null,
            "visibility": null,
            "width": null
          }
        },
        "47c481abf7a445a4a61202e311e7239c": {
          "model_module": "@jupyter-widgets/controls",
          "model_name": "DescriptionStyleModel",
          "model_module_version": "1.5.0",
          "state": {
            "_model_module": "@jupyter-widgets/controls",
            "_model_module_version": "1.5.0",
            "_model_name": "DescriptionStyleModel",
            "_view_count": null,
            "_view_module": "@jupyter-widgets/base",
            "_view_module_version": "1.2.0",
            "_view_name": "StyleView",
            "description_width": ""
          }
        },
        "61a52ad41948413eb6807f5b85479a77": {
          "model_module": "@jupyter-widgets/controls",
          "model_name": "HBoxModel",
          "model_module_version": "1.5.0",
          "state": {
            "_dom_classes": [],
            "_model_module": "@jupyter-widgets/controls",
            "_model_module_version": "1.5.0",
            "_model_name": "HBoxModel",
            "_view_count": null,
            "_view_module": "@jupyter-widgets/controls",
            "_view_module_version": "1.5.0",
            "_view_name": "HBoxView",
            "box_style": "",
            "children": [
              "IPY_MODEL_93e0b4ea0aa64582be4f114206dbb8ff",
              "IPY_MODEL_f438fce8d39f47dd807c8ea86be129cf",
              "IPY_MODEL_00cad076fe3246f3af6eb811f9ce4301"
            ],
            "layout": "IPY_MODEL_e4b020c9f675474cb19d77de08aec12b"
          }
        },
        "93e0b4ea0aa64582be4f114206dbb8ff": {
          "model_module": "@jupyter-widgets/controls",
          "model_name": "HTMLModel",
          "model_module_version": "1.5.0",
          "state": {
            "_dom_classes": [],
            "_model_module": "@jupyter-widgets/controls",
            "_model_module_version": "1.5.0",
            "_model_name": "HTMLModel",
            "_view_count": null,
            "_view_module": "@jupyter-widgets/controls",
            "_view_module_version": "1.5.0",
            "_view_name": "HTMLView",
            "description": "",
            "description_tooltip": null,
            "layout": "IPY_MODEL_ad2a62e66adb441d95a94502bd24eada",
            "placeholder": "​",
            "style": "IPY_MODEL_fdf7e25a48a64b6faf87e8a0605fd160",
            "value": "100%"
          }
        },
        "f438fce8d39f47dd807c8ea86be129cf": {
          "model_module": "@jupyter-widgets/controls",
          "model_name": "FloatProgressModel",
          "model_module_version": "1.5.0",
          "state": {
            "_dom_classes": [],
            "_model_module": "@jupyter-widgets/controls",
            "_model_module_version": "1.5.0",
            "_model_name": "FloatProgressModel",
            "_view_count": null,
            "_view_module": "@jupyter-widgets/controls",
            "_view_module_version": "1.5.0",
            "_view_name": "ProgressView",
            "bar_style": "success",
            "description": "",
            "description_tooltip": null,
            "layout": "IPY_MODEL_383bbce3ecf543c897fdd52d874ab106",
            "max": 12500,
            "min": 0,
            "orientation": "horizontal",
            "style": "IPY_MODEL_878473e2e5b74e72b5a2c205aaececd9",
            "value": 12500
          }
        },
        "00cad076fe3246f3af6eb811f9ce4301": {
          "model_module": "@jupyter-widgets/controls",
          "model_name": "HTMLModel",
          "model_module_version": "1.5.0",
          "state": {
            "_dom_classes": [],
            "_model_module": "@jupyter-widgets/controls",
            "_model_module_version": "1.5.0",
            "_model_name": "HTMLModel",
            "_view_count": null,
            "_view_module": "@jupyter-widgets/controls",
            "_view_module_version": "1.5.0",
            "_view_name": "HTMLView",
            "description": "",
            "description_tooltip": null,
            "layout": "IPY_MODEL_c0bddf2595f742c8a64cf93b0c1e8d99",
            "placeholder": "​",
            "style": "IPY_MODEL_a199dddbc7624eb79a8bdce079dd5157",
            "value": " 12500/12500 [00:26&lt;00:00, 470.37it/s]"
          }
        },
        "e4b020c9f675474cb19d77de08aec12b": {
          "model_module": "@jupyter-widgets/base",
          "model_name": "LayoutModel",
          "model_module_version": "1.2.0",
          "state": {
            "_model_module": "@jupyter-widgets/base",
            "_model_module_version": "1.2.0",
            "_model_name": "LayoutModel",
            "_view_count": null,
            "_view_module": "@jupyter-widgets/base",
            "_view_module_version": "1.2.0",
            "_view_name": "LayoutView",
            "align_content": null,
            "align_items": null,
            "align_self": null,
            "border": null,
            "bottom": null,
            "display": null,
            "flex": null,
            "flex_flow": null,
            "grid_area": null,
            "grid_auto_columns": null,
            "grid_auto_flow": null,
            "grid_auto_rows": null,
            "grid_column": null,
            "grid_gap": null,
            "grid_row": null,
            "grid_template_areas": null,
            "grid_template_columns": null,
            "grid_template_rows": null,
            "height": null,
            "justify_content": null,
            "justify_items": null,
            "left": null,
            "margin": null,
            "max_height": null,
            "max_width": null,
            "min_height": null,
            "min_width": null,
            "object_fit": null,
            "object_position": null,
            "order": null,
            "overflow": null,
            "overflow_x": null,
            "overflow_y": null,
            "padding": null,
            "right": null,
            "top": null,
            "visibility": null,
            "width": null
          }
        },
        "ad2a62e66adb441d95a94502bd24eada": {
          "model_module": "@jupyter-widgets/base",
          "model_name": "LayoutModel",
          "model_module_version": "1.2.0",
          "state": {
            "_model_module": "@jupyter-widgets/base",
            "_model_module_version": "1.2.0",
            "_model_name": "LayoutModel",
            "_view_count": null,
            "_view_module": "@jupyter-widgets/base",
            "_view_module_version": "1.2.0",
            "_view_name": "LayoutView",
            "align_content": null,
            "align_items": null,
            "align_self": null,
            "border": null,
            "bottom": null,
            "display": null,
            "flex": null,
            "flex_flow": null,
            "grid_area": null,
            "grid_auto_columns": null,
            "grid_auto_flow": null,
            "grid_auto_rows": null,
            "grid_column": null,
            "grid_gap": null,
            "grid_row": null,
            "grid_template_areas": null,
            "grid_template_columns": null,
            "grid_template_rows": null,
            "height": null,
            "justify_content": null,
            "justify_items": null,
            "left": null,
            "margin": null,
            "max_height": null,
            "max_width": null,
            "min_height": null,
            "min_width": null,
            "object_fit": null,
            "object_position": null,
            "order": null,
            "overflow": null,
            "overflow_x": null,
            "overflow_y": null,
            "padding": null,
            "right": null,
            "top": null,
            "visibility": null,
            "width": null
          }
        },
        "fdf7e25a48a64b6faf87e8a0605fd160": {
          "model_module": "@jupyter-widgets/controls",
          "model_name": "DescriptionStyleModel",
          "model_module_version": "1.5.0",
          "state": {
            "_model_module": "@jupyter-widgets/controls",
            "_model_module_version": "1.5.0",
            "_model_name": "DescriptionStyleModel",
            "_view_count": null,
            "_view_module": "@jupyter-widgets/base",
            "_view_module_version": "1.2.0",
            "_view_name": "StyleView",
            "description_width": ""
          }
        },
        "383bbce3ecf543c897fdd52d874ab106": {
          "model_module": "@jupyter-widgets/base",
          "model_name": "LayoutModel",
          "model_module_version": "1.2.0",
          "state": {
            "_model_module": "@jupyter-widgets/base",
            "_model_module_version": "1.2.0",
            "_model_name": "LayoutModel",
            "_view_count": null,
            "_view_module": "@jupyter-widgets/base",
            "_view_module_version": "1.2.0",
            "_view_name": "LayoutView",
            "align_content": null,
            "align_items": null,
            "align_self": null,
            "border": null,
            "bottom": null,
            "display": null,
            "flex": null,
            "flex_flow": null,
            "grid_area": null,
            "grid_auto_columns": null,
            "grid_auto_flow": null,
            "grid_auto_rows": null,
            "grid_column": null,
            "grid_gap": null,
            "grid_row": null,
            "grid_template_areas": null,
            "grid_template_columns": null,
            "grid_template_rows": null,
            "height": null,
            "justify_content": null,
            "justify_items": null,
            "left": null,
            "margin": null,
            "max_height": null,
            "max_width": null,
            "min_height": null,
            "min_width": null,
            "object_fit": null,
            "object_position": null,
            "order": null,
            "overflow": null,
            "overflow_x": null,
            "overflow_y": null,
            "padding": null,
            "right": null,
            "top": null,
            "visibility": null,
            "width": null
          }
        },
        "878473e2e5b74e72b5a2c205aaececd9": {
          "model_module": "@jupyter-widgets/controls",
          "model_name": "ProgressStyleModel",
          "model_module_version": "1.5.0",
          "state": {
            "_model_module": "@jupyter-widgets/controls",
            "_model_module_version": "1.5.0",
            "_model_name": "ProgressStyleModel",
            "_view_count": null,
            "_view_module": "@jupyter-widgets/base",
            "_view_module_version": "1.2.0",
            "_view_name": "StyleView",
            "bar_color": null,
            "description_width": ""
          }
        },
        "c0bddf2595f742c8a64cf93b0c1e8d99": {
          "model_module": "@jupyter-widgets/base",
          "model_name": "LayoutModel",
          "model_module_version": "1.2.0",
          "state": {
            "_model_module": "@jupyter-widgets/base",
            "_model_module_version": "1.2.0",
            "_model_name": "LayoutModel",
            "_view_count": null,
            "_view_module": "@jupyter-widgets/base",
            "_view_module_version": "1.2.0",
            "_view_name": "LayoutView",
            "align_content": null,
            "align_items": null,
            "align_self": null,
            "border": null,
            "bottom": null,
            "display": null,
            "flex": null,
            "flex_flow": null,
            "grid_area": null,
            "grid_auto_columns": null,
            "grid_auto_flow": null,
            "grid_auto_rows": null,
            "grid_column": null,
            "grid_gap": null,
            "grid_row": null,
            "grid_template_areas": null,
            "grid_template_columns": null,
            "grid_template_rows": null,
            "height": null,
            "justify_content": null,
            "justify_items": null,
            "left": null,
            "margin": null,
            "max_height": null,
            "max_width": null,
            "min_height": null,
            "min_width": null,
            "object_fit": null,
            "object_position": null,
            "order": null,
            "overflow": null,
            "overflow_x": null,
            "overflow_y": null,
            "padding": null,
            "right": null,
            "top": null,
            "visibility": null,
            "width": null
          }
        },
        "a199dddbc7624eb79a8bdce079dd5157": {
          "model_module": "@jupyter-widgets/controls",
          "model_name": "DescriptionStyleModel",
          "model_module_version": "1.5.0",
          "state": {
            "_model_module": "@jupyter-widgets/controls",
            "_model_module_version": "1.5.0",
            "_model_name": "DescriptionStyleModel",
            "_view_count": null,
            "_view_module": "@jupyter-widgets/base",
            "_view_module_version": "1.2.0",
            "_view_name": "StyleView",
            "description_width": ""
          }
        },
        "97e7f977a88146e798750a2915c76176": {
          "model_module": "@jupyter-widgets/controls",
          "model_name": "HBoxModel",
          "model_module_version": "1.5.0",
          "state": {
            "_dom_classes": [],
            "_model_module": "@jupyter-widgets/controls",
            "_model_module_version": "1.5.0",
            "_model_name": "HBoxModel",
            "_view_count": null,
            "_view_module": "@jupyter-widgets/controls",
            "_view_module_version": "1.5.0",
            "_view_name": "HBoxView",
            "box_style": "",
            "children": [
              "IPY_MODEL_e1591a6a58d5460a83e21f82f7314bb1",
              "IPY_MODEL_c92147789b2142b18206638377bf5843",
              "IPY_MODEL_433a3a0b2b5741ffb7de64d12045de78"
            ],
            "layout": "IPY_MODEL_d958e6c3b283440999fdb2dac37a0983"
          }
        },
        "e1591a6a58d5460a83e21f82f7314bb1": {
          "model_module": "@jupyter-widgets/controls",
          "model_name": "HTMLModel",
          "model_module_version": "1.5.0",
          "state": {
            "_dom_classes": [],
            "_model_module": "@jupyter-widgets/controls",
            "_model_module_version": "1.5.0",
            "_model_name": "HTMLModel",
            "_view_count": null,
            "_view_module": "@jupyter-widgets/controls",
            "_view_module_version": "1.5.0",
            "_view_name": "HTMLView",
            "description": "",
            "description_tooltip": null,
            "layout": "IPY_MODEL_6593441e32c84ae9af4717ac83b541d7",
            "placeholder": "​",
            "style": "IPY_MODEL_a17edda738014a62a64264565b603992",
            "value": "100%"
          }
        },
        "c92147789b2142b18206638377bf5843": {
          "model_module": "@jupyter-widgets/controls",
          "model_name": "FloatProgressModel",
          "model_module_version": "1.5.0",
          "state": {
            "_dom_classes": [],
            "_model_module": "@jupyter-widgets/controls",
            "_model_module_version": "1.5.0",
            "_model_name": "FloatProgressModel",
            "_view_count": null,
            "_view_module": "@jupyter-widgets/controls",
            "_view_module_version": "1.5.0",
            "_view_name": "ProgressView",
            "bar_style": "success",
            "description": "",
            "description_tooltip": null,
            "layout": "IPY_MODEL_bfd70f3b46504c839e5627e4df39f4db",
            "max": 37500,
            "min": 0,
            "orientation": "horizontal",
            "style": "IPY_MODEL_61d2217e740740d18217f0073f6c7476",
            "value": 37500
          }
        },
        "433a3a0b2b5741ffb7de64d12045de78": {
          "model_module": "@jupyter-widgets/controls",
          "model_name": "HTMLModel",
          "model_module_version": "1.5.0",
          "state": {
            "_dom_classes": [],
            "_model_module": "@jupyter-widgets/controls",
            "_model_module_version": "1.5.0",
            "_model_name": "HTMLModel",
            "_view_count": null,
            "_view_module": "@jupyter-widgets/controls",
            "_view_module_version": "1.5.0",
            "_view_name": "HTMLView",
            "description": "",
            "description_tooltip": null,
            "layout": "IPY_MODEL_65efa9eb8710425f9557c65d341aa173",
            "placeholder": "​",
            "style": "IPY_MODEL_8c48fc6e31484577be9132716a0831d5",
            "value": " 37500/37500 [02:45&lt;00:00, 235.73it/s]"
          }
        },
        "d958e6c3b283440999fdb2dac37a0983": {
          "model_module": "@jupyter-widgets/base",
          "model_name": "LayoutModel",
          "model_module_version": "1.2.0",
          "state": {
            "_model_module": "@jupyter-widgets/base",
            "_model_module_version": "1.2.0",
            "_model_name": "LayoutModel",
            "_view_count": null,
            "_view_module": "@jupyter-widgets/base",
            "_view_module_version": "1.2.0",
            "_view_name": "LayoutView",
            "align_content": null,
            "align_items": null,
            "align_self": null,
            "border": null,
            "bottom": null,
            "display": null,
            "flex": null,
            "flex_flow": null,
            "grid_area": null,
            "grid_auto_columns": null,
            "grid_auto_flow": null,
            "grid_auto_rows": null,
            "grid_column": null,
            "grid_gap": null,
            "grid_row": null,
            "grid_template_areas": null,
            "grid_template_columns": null,
            "grid_template_rows": null,
            "height": null,
            "justify_content": null,
            "justify_items": null,
            "left": null,
            "margin": null,
            "max_height": null,
            "max_width": null,
            "min_height": null,
            "min_width": null,
            "object_fit": null,
            "object_position": null,
            "order": null,
            "overflow": null,
            "overflow_x": null,
            "overflow_y": null,
            "padding": null,
            "right": null,
            "top": null,
            "visibility": null,
            "width": null
          }
        },
        "6593441e32c84ae9af4717ac83b541d7": {
          "model_module": "@jupyter-widgets/base",
          "model_name": "LayoutModel",
          "model_module_version": "1.2.0",
          "state": {
            "_model_module": "@jupyter-widgets/base",
            "_model_module_version": "1.2.0",
            "_model_name": "LayoutModel",
            "_view_count": null,
            "_view_module": "@jupyter-widgets/base",
            "_view_module_version": "1.2.0",
            "_view_name": "LayoutView",
            "align_content": null,
            "align_items": null,
            "align_self": null,
            "border": null,
            "bottom": null,
            "display": null,
            "flex": null,
            "flex_flow": null,
            "grid_area": null,
            "grid_auto_columns": null,
            "grid_auto_flow": null,
            "grid_auto_rows": null,
            "grid_column": null,
            "grid_gap": null,
            "grid_row": null,
            "grid_template_areas": null,
            "grid_template_columns": null,
            "grid_template_rows": null,
            "height": null,
            "justify_content": null,
            "justify_items": null,
            "left": null,
            "margin": null,
            "max_height": null,
            "max_width": null,
            "min_height": null,
            "min_width": null,
            "object_fit": null,
            "object_position": null,
            "order": null,
            "overflow": null,
            "overflow_x": null,
            "overflow_y": null,
            "padding": null,
            "right": null,
            "top": null,
            "visibility": null,
            "width": null
          }
        },
        "a17edda738014a62a64264565b603992": {
          "model_module": "@jupyter-widgets/controls",
          "model_name": "DescriptionStyleModel",
          "model_module_version": "1.5.0",
          "state": {
            "_model_module": "@jupyter-widgets/controls",
            "_model_module_version": "1.5.0",
            "_model_name": "DescriptionStyleModel",
            "_view_count": null,
            "_view_module": "@jupyter-widgets/base",
            "_view_module_version": "1.2.0",
            "_view_name": "StyleView",
            "description_width": ""
          }
        },
        "bfd70f3b46504c839e5627e4df39f4db": {
          "model_module": "@jupyter-widgets/base",
          "model_name": "LayoutModel",
          "model_module_version": "1.2.0",
          "state": {
            "_model_module": "@jupyter-widgets/base",
            "_model_module_version": "1.2.0",
            "_model_name": "LayoutModel",
            "_view_count": null,
            "_view_module": "@jupyter-widgets/base",
            "_view_module_version": "1.2.0",
            "_view_name": "LayoutView",
            "align_content": null,
            "align_items": null,
            "align_self": null,
            "border": null,
            "bottom": null,
            "display": null,
            "flex": null,
            "flex_flow": null,
            "grid_area": null,
            "grid_auto_columns": null,
            "grid_auto_flow": null,
            "grid_auto_rows": null,
            "grid_column": null,
            "grid_gap": null,
            "grid_row": null,
            "grid_template_areas": null,
            "grid_template_columns": null,
            "grid_template_rows": null,
            "height": null,
            "justify_content": null,
            "justify_items": null,
            "left": null,
            "margin": null,
            "max_height": null,
            "max_width": null,
            "min_height": null,
            "min_width": null,
            "object_fit": null,
            "object_position": null,
            "order": null,
            "overflow": null,
            "overflow_x": null,
            "overflow_y": null,
            "padding": null,
            "right": null,
            "top": null,
            "visibility": null,
            "width": null
          }
        },
        "61d2217e740740d18217f0073f6c7476": {
          "model_module": "@jupyter-widgets/controls",
          "model_name": "ProgressStyleModel",
          "model_module_version": "1.5.0",
          "state": {
            "_model_module": "@jupyter-widgets/controls",
            "_model_module_version": "1.5.0",
            "_model_name": "ProgressStyleModel",
            "_view_count": null,
            "_view_module": "@jupyter-widgets/base",
            "_view_module_version": "1.2.0",
            "_view_name": "StyleView",
            "bar_color": null,
            "description_width": ""
          }
        },
        "65efa9eb8710425f9557c65d341aa173": {
          "model_module": "@jupyter-widgets/base",
          "model_name": "LayoutModel",
          "model_module_version": "1.2.0",
          "state": {
            "_model_module": "@jupyter-widgets/base",
            "_model_module_version": "1.2.0",
            "_model_name": "LayoutModel",
            "_view_count": null,
            "_view_module": "@jupyter-widgets/base",
            "_view_module_version": "1.2.0",
            "_view_name": "LayoutView",
            "align_content": null,
            "align_items": null,
            "align_self": null,
            "border": null,
            "bottom": null,
            "display": null,
            "flex": null,
            "flex_flow": null,
            "grid_area": null,
            "grid_auto_columns": null,
            "grid_auto_flow": null,
            "grid_auto_rows": null,
            "grid_column": null,
            "grid_gap": null,
            "grid_row": null,
            "grid_template_areas": null,
            "grid_template_columns": null,
            "grid_template_rows": null,
            "height": null,
            "justify_content": null,
            "justify_items": null,
            "left": null,
            "margin": null,
            "max_height": null,
            "max_width": null,
            "min_height": null,
            "min_width": null,
            "object_fit": null,
            "object_position": null,
            "order": null,
            "overflow": null,
            "overflow_x": null,
            "overflow_y": null,
            "padding": null,
            "right": null,
            "top": null,
            "visibility": null,
            "width": null
          }
        },
        "8c48fc6e31484577be9132716a0831d5": {
          "model_module": "@jupyter-widgets/controls",
          "model_name": "DescriptionStyleModel",
          "model_module_version": "1.5.0",
          "state": {
            "_model_module": "@jupyter-widgets/controls",
            "_model_module_version": "1.5.0",
            "_model_name": "DescriptionStyleModel",
            "_view_count": null,
            "_view_module": "@jupyter-widgets/base",
            "_view_module_version": "1.2.0",
            "_view_name": "StyleView",
            "description_width": ""
          }
        },
        "928892972f254c388d479f7acde84f54": {
          "model_module": "@jupyter-widgets/controls",
          "model_name": "HBoxModel",
          "model_module_version": "1.5.0",
          "state": {
            "_dom_classes": [],
            "_model_module": "@jupyter-widgets/controls",
            "_model_module_version": "1.5.0",
            "_model_name": "HBoxModel",
            "_view_count": null,
            "_view_module": "@jupyter-widgets/controls",
            "_view_module_version": "1.5.0",
            "_view_name": "HBoxView",
            "box_style": "",
            "children": [
              "IPY_MODEL_196fe477563d4bbf8068b6b502d86dca",
              "IPY_MODEL_c4a321791e2647ba8a300064ee5c9321",
              "IPY_MODEL_77deb89f88be40e6b209599215b06fb5"
            ],
            "layout": "IPY_MODEL_88ce11a9359c4b1caa3f90d684bbd559"
          }
        },
        "196fe477563d4bbf8068b6b502d86dca": {
          "model_module": "@jupyter-widgets/controls",
          "model_name": "HTMLModel",
          "model_module_version": "1.5.0",
          "state": {
            "_dom_classes": [],
            "_model_module": "@jupyter-widgets/controls",
            "_model_module_version": "1.5.0",
            "_model_name": "HTMLModel",
            "_view_count": null,
            "_view_module": "@jupyter-widgets/controls",
            "_view_module_version": "1.5.0",
            "_view_name": "HTMLView",
            "description": "",
            "description_tooltip": null,
            "layout": "IPY_MODEL_50018fffd2e94cf6a8849d5fa76aafe6",
            "placeholder": "​",
            "style": "IPY_MODEL_619277edb4be46b2993d94536c64a96d",
            "value": "100%"
          }
        },
        "c4a321791e2647ba8a300064ee5c9321": {
          "model_module": "@jupyter-widgets/controls",
          "model_name": "FloatProgressModel",
          "model_module_version": "1.5.0",
          "state": {
            "_dom_classes": [],
            "_model_module": "@jupyter-widgets/controls",
            "_model_module_version": "1.5.0",
            "_model_name": "FloatProgressModel",
            "_view_count": null,
            "_view_module": "@jupyter-widgets/controls",
            "_view_module_version": "1.5.0",
            "_view_name": "ProgressView",
            "bar_style": "success",
            "description": "",
            "description_tooltip": null,
            "layout": "IPY_MODEL_50116b971f0d48e498463e676d9f99fd",
            "max": 12500,
            "min": 0,
            "orientation": "horizontal",
            "style": "IPY_MODEL_67411129716b424a973e07cf4b57eea1",
            "value": 12500
          }
        },
        "77deb89f88be40e6b209599215b06fb5": {
          "model_module": "@jupyter-widgets/controls",
          "model_name": "HTMLModel",
          "model_module_version": "1.5.0",
          "state": {
            "_dom_classes": [],
            "_model_module": "@jupyter-widgets/controls",
            "_model_module_version": "1.5.0",
            "_model_name": "HTMLModel",
            "_view_count": null,
            "_view_module": "@jupyter-widgets/controls",
            "_view_module_version": "1.5.0",
            "_view_name": "HTMLView",
            "description": "",
            "description_tooltip": null,
            "layout": "IPY_MODEL_8f8d4a3f9e8247b4b16b86c83d207e44",
            "placeholder": "​",
            "style": "IPY_MODEL_de47032fe5bf44e1a2d0db161345d19e",
            "value": " 12500/12500 [00:52&lt;00:00, 250.24it/s]"
          }
        },
        "88ce11a9359c4b1caa3f90d684bbd559": {
          "model_module": "@jupyter-widgets/base",
          "model_name": "LayoutModel",
          "model_module_version": "1.2.0",
          "state": {
            "_model_module": "@jupyter-widgets/base",
            "_model_module_version": "1.2.0",
            "_model_name": "LayoutModel",
            "_view_count": null,
            "_view_module": "@jupyter-widgets/base",
            "_view_module_version": "1.2.0",
            "_view_name": "LayoutView",
            "align_content": null,
            "align_items": null,
            "align_self": null,
            "border": null,
            "bottom": null,
            "display": null,
            "flex": null,
            "flex_flow": null,
            "grid_area": null,
            "grid_auto_columns": null,
            "grid_auto_flow": null,
            "grid_auto_rows": null,
            "grid_column": null,
            "grid_gap": null,
            "grid_row": null,
            "grid_template_areas": null,
            "grid_template_columns": null,
            "grid_template_rows": null,
            "height": null,
            "justify_content": null,
            "justify_items": null,
            "left": null,
            "margin": null,
            "max_height": null,
            "max_width": null,
            "min_height": null,
            "min_width": null,
            "object_fit": null,
            "object_position": null,
            "order": null,
            "overflow": null,
            "overflow_x": null,
            "overflow_y": null,
            "padding": null,
            "right": null,
            "top": null,
            "visibility": null,
            "width": null
          }
        },
        "50018fffd2e94cf6a8849d5fa76aafe6": {
          "model_module": "@jupyter-widgets/base",
          "model_name": "LayoutModel",
          "model_module_version": "1.2.0",
          "state": {
            "_model_module": "@jupyter-widgets/base",
            "_model_module_version": "1.2.0",
            "_model_name": "LayoutModel",
            "_view_count": null,
            "_view_module": "@jupyter-widgets/base",
            "_view_module_version": "1.2.0",
            "_view_name": "LayoutView",
            "align_content": null,
            "align_items": null,
            "align_self": null,
            "border": null,
            "bottom": null,
            "display": null,
            "flex": null,
            "flex_flow": null,
            "grid_area": null,
            "grid_auto_columns": null,
            "grid_auto_flow": null,
            "grid_auto_rows": null,
            "grid_column": null,
            "grid_gap": null,
            "grid_row": null,
            "grid_template_areas": null,
            "grid_template_columns": null,
            "grid_template_rows": null,
            "height": null,
            "justify_content": null,
            "justify_items": null,
            "left": null,
            "margin": null,
            "max_height": null,
            "max_width": null,
            "min_height": null,
            "min_width": null,
            "object_fit": null,
            "object_position": null,
            "order": null,
            "overflow": null,
            "overflow_x": null,
            "overflow_y": null,
            "padding": null,
            "right": null,
            "top": null,
            "visibility": null,
            "width": null
          }
        },
        "619277edb4be46b2993d94536c64a96d": {
          "model_module": "@jupyter-widgets/controls",
          "model_name": "DescriptionStyleModel",
          "model_module_version": "1.5.0",
          "state": {
            "_model_module": "@jupyter-widgets/controls",
            "_model_module_version": "1.5.0",
            "_model_name": "DescriptionStyleModel",
            "_view_count": null,
            "_view_module": "@jupyter-widgets/base",
            "_view_module_version": "1.2.0",
            "_view_name": "StyleView",
            "description_width": ""
          }
        },
        "50116b971f0d48e498463e676d9f99fd": {
          "model_module": "@jupyter-widgets/base",
          "model_name": "LayoutModel",
          "model_module_version": "1.2.0",
          "state": {
            "_model_module": "@jupyter-widgets/base",
            "_model_module_version": "1.2.0",
            "_model_name": "LayoutModel",
            "_view_count": null,
            "_view_module": "@jupyter-widgets/base",
            "_view_module_version": "1.2.0",
            "_view_name": "LayoutView",
            "align_content": null,
            "align_items": null,
            "align_self": null,
            "border": null,
            "bottom": null,
            "display": null,
            "flex": null,
            "flex_flow": null,
            "grid_area": null,
            "grid_auto_columns": null,
            "grid_auto_flow": null,
            "grid_auto_rows": null,
            "grid_column": null,
            "grid_gap": null,
            "grid_row": null,
            "grid_template_areas": null,
            "grid_template_columns": null,
            "grid_template_rows": null,
            "height": null,
            "justify_content": null,
            "justify_items": null,
            "left": null,
            "margin": null,
            "max_height": null,
            "max_width": null,
            "min_height": null,
            "min_width": null,
            "object_fit": null,
            "object_position": null,
            "order": null,
            "overflow": null,
            "overflow_x": null,
            "overflow_y": null,
            "padding": null,
            "right": null,
            "top": null,
            "visibility": null,
            "width": null
          }
        },
        "67411129716b424a973e07cf4b57eea1": {
          "model_module": "@jupyter-widgets/controls",
          "model_name": "ProgressStyleModel",
          "model_module_version": "1.5.0",
          "state": {
            "_model_module": "@jupyter-widgets/controls",
            "_model_module_version": "1.5.0",
            "_model_name": "ProgressStyleModel",
            "_view_count": null,
            "_view_module": "@jupyter-widgets/base",
            "_view_module_version": "1.2.0",
            "_view_name": "StyleView",
            "bar_color": null,
            "description_width": ""
          }
        },
        "8f8d4a3f9e8247b4b16b86c83d207e44": {
          "model_module": "@jupyter-widgets/base",
          "model_name": "LayoutModel",
          "model_module_version": "1.2.0",
          "state": {
            "_model_module": "@jupyter-widgets/base",
            "_model_module_version": "1.2.0",
            "_model_name": "LayoutModel",
            "_view_count": null,
            "_view_module": "@jupyter-widgets/base",
            "_view_module_version": "1.2.0",
            "_view_name": "LayoutView",
            "align_content": null,
            "align_items": null,
            "align_self": null,
            "border": null,
            "bottom": null,
            "display": null,
            "flex": null,
            "flex_flow": null,
            "grid_area": null,
            "grid_auto_columns": null,
            "grid_auto_flow": null,
            "grid_auto_rows": null,
            "grid_column": null,
            "grid_gap": null,
            "grid_row": null,
            "grid_template_areas": null,
            "grid_template_columns": null,
            "grid_template_rows": null,
            "height": null,
            "justify_content": null,
            "justify_items": null,
            "left": null,
            "margin": null,
            "max_height": null,
            "max_width": null,
            "min_height": null,
            "min_width": null,
            "object_fit": null,
            "object_position": null,
            "order": null,
            "overflow": null,
            "overflow_x": null,
            "overflow_y": null,
            "padding": null,
            "right": null,
            "top": null,
            "visibility": null,
            "width": null
          }
        },
        "de47032fe5bf44e1a2d0db161345d19e": {
          "model_module": "@jupyter-widgets/controls",
          "model_name": "DescriptionStyleModel",
          "model_module_version": "1.5.0",
          "state": {
            "_model_module": "@jupyter-widgets/controls",
            "_model_module_version": "1.5.0",
            "_model_name": "DescriptionStyleModel",
            "_view_count": null,
            "_view_module": "@jupyter-widgets/base",
            "_view_module_version": "1.2.0",
            "_view_name": "StyleView",
            "description_width": ""
          }
        }
      }
    },
    "accelerator": "GPU"
  },
  "nbformat": 4,
  "nbformat_minor": 0
}